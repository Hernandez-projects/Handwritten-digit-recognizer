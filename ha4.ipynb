{
  "nbformat": 4,
  "nbformat_minor": 0,
  "metadata": {
    "colab": {
      "name": "ha4.ipynb",
      "provenance": []
    },
    "kernelspec": {
      "name": "python3",
      "display_name": "Python 3"
    },
    "language_info": {
      "name": "python"
    }
  },
  "cells": [
    {
      "cell_type": "code",
      "source": [
        "# Jesse Hernandez\n",
        "# Prof. Liu\n",
        "\n",
        "import numpy as np\n",
        "import scipy\n",
        "import tensorflow as tf\n",
        "import matplotlib.pyplot as plt\n",
        "from keras.datasets import mnist\n",
        "from sklearn.model_selection import train_test_split\n",
        "\n",
        "\n",
        "import seaborn as sn\n",
        "import pandas as pd\n",
        "import math\n",
        "import datetime\n",
        "import platform\n",
        "\n",
        "\n",
        "import keras\n",
        "from keras.datasets import mnist\n",
        "from keras.models import Sequential\n",
        "from keras.layers import Dense, Dropout, Flatten\n",
        "from keras.layers import Conv2D, MaxPooling2D\n",
        "from keras import backend as K\n",
        "\n",
        "# All neccessary imports above and loading data below\n",
        "\n",
        "# These are hyperparameters for CNN model\n",
        "batch_size = 128\n",
        "num_classes = 10\n",
        "epochs = 10\n",
        "\n",
        "# load (downloaded if needed) the MNIST dataset\n",
        "(x_train, y_train), (x_test, y_test) = mnist.load_data()\n",
        "cX_train, cX_test, cY_train, cY_test = train_test_split(x_train, y_train, test_size=10000)"
      ],
      "metadata": {
        "id": "cL6RaHk1PENB",
        "colab": {
          "base_uri": "https://localhost:8080/"
        },
        "outputId": "1546269b-e75f-42a9-999a-a76a7635fbaf"
      },
      "execution_count": null,
      "outputs": [
        {
          "output_type": "stream",
          "name": "stdout",
          "text": [
            "Downloading data from https://storage.googleapis.com/tensorflow/tf-keras-datasets/mnist.npz\n",
            "11493376/11490434 [==============================] - 0s 0us/step\n",
            "11501568/11490434 [==============================] - 0s 0us/step\n"
          ]
        }
      ]
    },
    {
      "cell_type": "code",
      "source": [
        "# The given function for calculating confusion matrix and metrics\n",
        "\n",
        "def func_confusion_matrix(y_test, y_pred):\n",
        "    \"\"\" this function is used to calculate the confusion matrix and a set of metrics.\n",
        "    INPUT:\n",
        "        y_test, ground-truth lables;\n",
        "        y_pred, predicted labels;\n",
        "    OUTPUT:\n",
        "        CM, confuction matrix\n",
        "        acc, accuracy\n",
        "        arrR[], per-class recall rate,\n",
        "        arrP[], per-class prediction rate.\n",
        "    \"\"\"\n",
        "\n",
        "    y_test = np.array(y_test)\n",
        "    y_pred = np.array(y_pred)\n",
        "\n",
        "    unique_values = set(y_pred)\n",
        "    sorted(unique_values)\n",
        "    num_classes = len(unique_values)\n",
        "    unique_values = np.array(list(unique_values))  # change to array so can use indexes\n",
        "    possible_string_dict = {}\n",
        "    # make sure all values are 0 based, so can use built-in \"zip\" function\n",
        "    if issubclass(type(y_test[0]), np.integer):  # if values are integers\n",
        "        y_test_min = y_test.min()\n",
        "        if y_test_min != 0:  # if does not contain 0, reduce both test and pred by min value to get 0 based for both\n",
        "            y_test = y_test - y_test_min\n",
        "            y_pred = y_pred - y_test_min\n",
        "    else:\n",
        "        # assume values are strings, change to integers\n",
        "        # TODO, change to convert list from string to int\n",
        "        y_test_int = np.empty(len(y_test), dtype=int)\n",
        "        y_pred_int = np.empty(len(y_pred), dtype=int)\n",
        "        for index in range(0, num_classes):\n",
        "            current_value = unique_values[index]\n",
        "            possible_string_dict[index] = current_value\n",
        "            y_test_int[y_test == current_value] = index\n",
        "            y_pred_int[y_pred == current_value] = index\n",
        "        y_test = y_test_int\n",
        "        y_pred = y_pred_int\n",
        "\n",
        "    ## your code for creating confusion matrix;\n",
        "    conf_matrix = np.zeros((num_classes, num_classes), dtype=np.int)\n",
        "    for a, p in zip(y_test, y_pred):\n",
        "        conf_matrix[a][p] += 1\n",
        "\n",
        "    ## your code for calcuating acc;\n",
        "    accuracy = conf_matrix.diagonal().sum() / conf_matrix.sum()\n",
        "\n",
        "    ## your code for calcualting arrR and arrP;\n",
        "    recall_array = np.empty(num_classes, dtype=float)\n",
        "    precision_array = np.empty(num_classes, dtype=float)\n",
        "    for index in range(0, num_classes):\n",
        "        value = conf_matrix[index, index]\n",
        "        recall_sum = conf_matrix[index, :].sum()\n",
        "        precision_sum = conf_matrix[:, index].sum()\n",
        "        recall_array[index] = value / recall_sum\n",
        "        precision_array[index] = value / precision_sum\n",
        "\n",
        "    return conf_matrix, accuracy, recall_array, precision_array"
      ],
      "metadata": {
        "id": "r_CJ4FZgfm9M"
      },
      "execution_count": null,
      "outputs": []
    },
    {
      "cell_type": "code",
      "execution_count": null,
      "metadata": {
        "colab": {
          "base_uri": "https://localhost:8080/"
        },
        "id": "WY4ykN1GpbWR",
        "outputId": "ca83bbff-9aa2-41d2-abbb-b04c9a443445"
      },
      "outputs": [
        {
          "output_type": "stream",
          "name": "stdout",
          "text": [
            "(10000, 28, 28, 1)\n",
            "(10000, 10)\n",
            "(50000, 28, 28, 1)\n",
            "(50000, 10)\n",
            "\n",
            "Model: \"sequential\"\n",
            "_________________________________________________________________\n",
            " Layer (type)                Output Shape              Param #   \n",
            "=================================================================\n",
            " conv2d (Conv2D)             (None, 26, 26, 32)        320       \n",
            "                                                                 \n",
            " conv2d_1 (Conv2D)           (None, 24, 24, 64)        18496     \n",
            "                                                                 \n",
            " max_pooling2d (MaxPooling2D  (None, 12, 12, 64)       0         \n",
            " )                                                               \n",
            "                                                                 \n",
            " dropout (Dropout)           (None, 12, 12, 64)        0         \n",
            "                                                                 \n",
            " flatten (Flatten)           (None, 9216)              0         \n",
            "                                                                 \n",
            " dense (Dense)               (None, 256)               2359552   \n",
            "                                                                 \n",
            " dropout_1 (Dropout)         (None, 256)               0         \n",
            "                                                                 \n",
            " dense_1 (Dense)             (None, 10)                2570      \n",
            "                                                                 \n",
            "=================================================================\n",
            "Total params: 2,380,938\n",
            "Trainable params: 2,380,938\n",
            "Non-trainable params: 0\n",
            "_________________________________________________________________\n",
            "Epoch 1/10\n",
            "391/391 [==============================] - 140s 355ms/step - loss: 2.2786 - accuracy: 0.1619 - val_loss: 2.2361 - val_accuracy: 0.4519\n",
            "Epoch 2/10\n",
            "391/391 [==============================] - 123s 315ms/step - loss: 2.2117 - accuracy: 0.2965 - val_loss: 2.1566 - val_accuracy: 0.5875\n",
            "Epoch 3/10\n",
            "391/391 [==============================] - 123s 314ms/step - loss: 2.1278 - accuracy: 0.4146 - val_loss: 2.0558 - val_accuracy: 0.6431\n",
            "Epoch 4/10\n",
            "391/391 [==============================] - 123s 314ms/step - loss: 2.0218 - accuracy: 0.4942 - val_loss: 1.9230 - val_accuracy: 0.6853\n",
            "Epoch 5/10\n",
            "391/391 [==============================] - 123s 315ms/step - loss: 1.8828 - accuracy: 0.5537 - val_loss: 1.7517 - val_accuracy: 0.7185\n",
            "Epoch 6/10\n",
            "391/391 [==============================] - 123s 315ms/step - loss: 1.7142 - accuracy: 0.6016 - val_loss: 1.5504 - val_accuracy: 0.7494\n",
            "Epoch 7/10\n",
            "391/391 [==============================] - 124s 316ms/step - loss: 1.5260 - accuracy: 0.6392 - val_loss: 1.3389 - val_accuracy: 0.7674\n",
            "Epoch 8/10\n",
            "391/391 [==============================] - 123s 315ms/step - loss: 1.3444 - accuracy: 0.6671 - val_loss: 1.1446 - val_accuracy: 0.7812\n",
            "Epoch 9/10\n",
            "391/391 [==============================] - 123s 314ms/step - loss: 1.1907 - accuracy: 0.6878 - val_loss: 0.9854 - val_accuracy: 0.7960\n",
            "Epoch 10/10\n",
            "391/391 [==============================] - 122s 313ms/step - loss: 1.0619 - accuracy: 0.7068 - val_loss: 0.8629 - val_accuracy: 0.8086\n",
            "The model has successfully trained\n",
            "Test loss: 0.8629021644592285\n",
            "Test accuracy: 0.8086000084877014\n"
          ]
        }
      ],
      "source": [
        "\n",
        "\n",
        "\n",
        "# Preparing the data for the model \n",
        "cX_train = cX_train.reshape(cX_train.shape[0], 28, 28, 1)\n",
        "cX_test = cX_test.reshape(cX_test.shape[0], 28, 28, 1)\n",
        "input_shape = (28, 28, 1)\n",
        "# since this is a convolutional network the pixels stay in their 28x28 format\n",
        "# but also get an extra dimension to use 3x3 kernal size\n",
        "\n",
        "cY_train = tf.keras.utils.to_categorical(cY_train, num_classes)\n",
        "cY_test = tf.keras.utils.to_categorical(cY_test, num_classes)\n",
        "cX_train = cX_train.astype('float32')\n",
        "cX_test = cX_test.astype('float32')\n",
        "cX_train = cX_train / 255\n",
        "cX_test = cX_test / 255  # data normalization\n",
        "\n",
        "print(cX_test.shape)\n",
        "print(cY_test.shape)\n",
        "print(cX_train.shape)\n",
        "print(cY_train.shape)\n",
        "print()\n",
        "\n",
        "# building model\n",
        "model = Sequential()\n",
        "model.add(Conv2D(32, kernel_size=(3, 3), activation='relu', input_shape=input_shape))\n",
        "model.add(Conv2D(64, (3, 3), activation='relu'))\n",
        "model.add(MaxPooling2D(pool_size=(2, 2)))\n",
        "model.add(Dropout(0.25))\n",
        "model.add(Flatten())\n",
        "model.add(Dense(256, activation='relu'))\n",
        "model.add(Dropout(0.5))\n",
        "model.add(Dense(num_classes, activation='softmax'))\n",
        "model.compile(loss=keras.losses.categorical_crossentropy, optimizer=tf.keras.optimizers.Adadelta(), metrics=['accuracy'])\n",
        "model.summary()\n",
        "# specifing a softmax output will give one hot encoding that needs to be reverserd\n",
        "# for the confusion matrix\n",
        "\n",
        "hist = model.fit(cX_train, cY_train, batch_size=batch_size, epochs=epochs, verbose=1, validation_data=(cX_test, cY_test))\n",
        "print(\"The model has successfully trained\")\n",
        "\n",
        "\n",
        "score = model.evaluate(cX_test, cY_test, verbose=0)\n",
        "print('Test loss:', score[0])\n",
        "print('Test accuracy:', score[1])\n",
        "\n",
        "model_name1 = 'digits_recognition_mlpCNN.h5'\n",
        "model.save(model_name1, save_format='h5')\n",
        "# saving the current trained model for easier acces later for comparison with other model\n"
      ]
    },
    {
      "cell_type": "code",
      "source": [
        "\n",
        "# made a seperate set from the same 50,000 samples so that any modifcation made wont affect the other model\n",
        "fX_train, fX_test, fY_train, fY_test = train_test_split(x_train, y_train, test_size=10000)\n",
        "\n",
        "x_train_normalized = fX_train / 255\n",
        "x_test_normalized = fX_test / 255\n",
        "\n",
        "\n",
        "model = tf.keras.models.Sequential()\n",
        "\n",
        "# Input layers.\n",
        "model.add(tf.keras.layers.Flatten(input_shape=x_train_normalized.shape[1:]))\n",
        "model.add(tf.keras.layers.Dense(\n",
        "    units=128,\n",
        "    activation=tf.keras.activations.relu,\n",
        "    kernel_regularizer=tf.keras.regularizers.l2(0.002)\n",
        "))\n",
        "\n",
        "# Hidden layers.\n",
        "model.add(tf.keras.layers.Dense(\n",
        "    units=128,\n",
        "    activation=tf.keras.activations.relu,\n",
        "    kernel_regularizer=tf.keras.regularizers.l2(0.002)\n",
        "))\n",
        "\n",
        "# Output layers.\n",
        "model.add(tf.keras.layers.Dense(\n",
        "    units=10,\n",
        "    activation=tf.keras.activations.softmax\n",
        "))\n",
        "model.summary()\n",
        "adam_optimizer = tf.keras.optimizers.Adam(learning_rate=0.001)\n",
        "\n",
        "model.compile(\n",
        "    optimizer=adam_optimizer,\n",
        "    loss=tf.keras.losses.sparse_categorical_crossentropy,\n",
        "    metrics=['accuracy']\n",
        ")\n",
        "\n",
        "training_history = model.fit(\n",
        "    x_train_normalized,\n",
        "    fY_train,\n",
        "    epochs=10,\n",
        "    validation_data=(x_test_normalized, fY_test)\n",
        ")\n",
        "\n",
        "plt.xlabel('Epoch Number')\n",
        "plt.ylabel('Loss')\n",
        "plt.plot(training_history.history['loss'], label='training set')\n",
        "plt.plot(training_history.history['val_loss'], label='test set')\n",
        "plt.legend()\n",
        "plt.show()\n",
        "\n",
        "\n",
        "model_name = 'digits_recognition_mlpFNN.h5'\n",
        "model.save(model_name, save_format='h5')\n"
      ],
      "metadata": {
        "colab": {
          "base_uri": "https://localhost:8080/",
          "height": 922
        },
        "id": "gw9VBPjiPYut",
        "outputId": "4e979222-5665-416b-d77f-5b15ba153789"
      },
      "execution_count": null,
      "outputs": [
        {
          "output_type": "stream",
          "name": "stdout",
          "text": [
            "Model: \"sequential_1\"\n",
            "_________________________________________________________________\n",
            " Layer (type)                Output Shape              Param #   \n",
            "=================================================================\n",
            " flatten_1 (Flatten)         (None, 784)               0         \n",
            "                                                                 \n",
            " dense_2 (Dense)             (None, 128)               100480    \n",
            "                                                                 \n",
            " dense_3 (Dense)             (None, 128)               16512     \n",
            "                                                                 \n",
            " dense_4 (Dense)             (None, 10)                1290      \n",
            "                                                                 \n",
            "=================================================================\n",
            "Total params: 118,282\n",
            "Trainable params: 118,282\n",
            "Non-trainable params: 0\n",
            "_________________________________________________________________\n",
            "Epoch 1/10\n",
            "1563/1563 [==============================] - 6s 3ms/step - loss: 0.5518 - accuracy: 0.9176 - val_loss: 0.3580 - val_accuracy: 0.9494\n",
            "Epoch 2/10\n",
            "1563/1563 [==============================] - 5s 3ms/step - loss: 0.3148 - accuracy: 0.9521 - val_loss: 0.2766 - val_accuracy: 0.9598\n",
            "Epoch 3/10\n",
            "1563/1563 [==============================] - 5s 3ms/step - loss: 0.2718 - accuracy: 0.9579 - val_loss: 0.2755 - val_accuracy: 0.9585\n",
            "Epoch 4/10\n",
            "1563/1563 [==============================] - 5s 3ms/step - loss: 0.2469 - accuracy: 0.9625 - val_loss: 0.2485 - val_accuracy: 0.9609\n",
            "Epoch 5/10\n",
            "1563/1563 [==============================] - 5s 3ms/step - loss: 0.2335 - accuracy: 0.9640 - val_loss: 0.2283 - val_accuracy: 0.9657\n",
            "Epoch 6/10\n",
            "1563/1563 [==============================] - 5s 3ms/step - loss: 0.2207 - accuracy: 0.9661 - val_loss: 0.2468 - val_accuracy: 0.9602\n",
            "Epoch 7/10\n",
            "1563/1563 [==============================] - 5s 3ms/step - loss: 0.2121 - accuracy: 0.9666 - val_loss: 0.2305 - val_accuracy: 0.9623\n",
            "Epoch 8/10\n",
            "1563/1563 [==============================] - 5s 3ms/step - loss: 0.2057 - accuracy: 0.9666 - val_loss: 0.2357 - val_accuracy: 0.9602\n",
            "Epoch 9/10\n",
            "1563/1563 [==============================] - 5s 3ms/step - loss: 0.2021 - accuracy: 0.9671 - val_loss: 0.2016 - val_accuracy: 0.9688\n",
            "Epoch 10/10\n",
            "1563/1563 [==============================] - 5s 3ms/step - loss: 0.1951 - accuracy: 0.9691 - val_loss: 0.2130 - val_accuracy: 0.9644\n"
          ]
        },
        {
          "output_type": "display_data",
          "data": {
            "text/plain": [
              "<Figure size 432x288 with 1 Axes>"
            ],
            "image/png": "[encoded data removed]"
          },
          "metadata": {
            "needs_background": "light"
          }
        }
      ]
    },
    {
      "cell_type": "code",
      "source": [
        "# load the saved model to make preditions over the testing set\n",
        "loaded_model = tf.keras.models.load_model(model_name1)\n",
        "predictions_one_hot = loaded_model.predict([cX_test])\n",
        "predictions = np.argmax(predictions_one_hot, axis=1)\n",
        "cY_eval = np.argmax(cY_test, axis=1)\n",
        "# one hot encoding is not good for a confusion matrix\n",
        "\n",
        "cm, CNN_Accuracy, CNN_recall, CNN_precision = func_confusion_matrix(cY_eval, predictions)\n",
        "\n",
        "# Confusion matrix plotting\n",
        "f, ax = plt.subplots(figsize=(9, 7))\n",
        "sn.heatmap(\n",
        "    cm,\n",
        "    linecolor='Black',\n",
        "    cmap='Reds',\n",
        "    annot=True,\n",
        "    linewidths=.5,\n",
        "    fmt=\"d\",\n",
        "    square=True,\n",
        "    ax=ax\n",
        ")\n",
        "plt.title('Confusion Matrix for CNN', size=20)\n",
        "plt.xlabel('Predicted Labels', size=14)\n",
        "plt.ylabel('Actual Labels', size=14)\n",
        "plt.show()\n",
        "\n",
        "print(f\"Here is the accuracy for FNN model: {CNN_Accuracy}\")\n",
        "print(\"The recall and precision rates will be printed in their own pandas DF\")\n",
        "print()\n",
        "\n",
        "# matrix metrics \n",
        "with pd.option_context('display.float_format', '{:,.3f}'.format):\n",
        "    display(pd.DataFrame(CNN_precision).T.style.set_caption(\"Per-class precision for CNN\"))\n",
        "    print()\n",
        "    display(pd.DataFrame(CNN_recall).T.style.set_caption(\"Per-class recall rates \"))"
      ],
      "metadata": {
        "id": "Pc0X3b5t4Xka",
        "colab": {
          "base_uri": "https://localhost:8080/",
          "height": 753
        },
        "outputId": "f6358b50-0852-4858-acfc-7c3436da6651"
      },
      "execution_count": null,
      "outputs": [
        {
          "output_type": "stream",
          "name": "stderr",
          "text": [
            "/usr/local/lib/python3.7/dist-packages/ipykernel_launcher.py:43: DeprecationWarning: `np.int` is a deprecated alias for the builtin `int`. To silence this warning, use `int` by itself. Doing this will not modify any behavior and is safe. When replacing `np.int`, you may wish to use e.g. `np.int64` or `np.int32` to specify the precision. If you wish to review your current use, check the release note link for additional information.\n",
            "Deprecated in NumPy 1.20; for more details and guidance: https://numpy.org/devdocs/release/1.20.0-notes.html#deprecations\n"
          ]
        },
        {
          "output_type": "display_data",
          "data": {
            "text/plain": [
              "<Figure size 648x504 with 2 Axes>"
            ],
            "image/png": "[encoded data removed]"
          },
          "metadata": {
            "needs_background": "light"
          }
        },
        {
          "output_type": "stream",
          "name": "stdout",
          "text": [
            "Here is the accuracy for FNN model: 0.8086\n",
            "The recall and precision rates will be printed in their own pandas DF\n",
            "\n"
          ]
        },
        {
          "output_type": "display_data",
          "data": {
            "text/plain": [
              "<pandas.io.formats.style.Styler at 0x7f4bc3107210>"
            ],
            "text/html": [
              "<style type=\"text/css\">\n",
              "</style>\n",
              "<table id=\"T_b2461_\" class=\"dataframe\">\n",
              "  <caption>Per-class precision for CNN</caption>\n",
              "  <thead>\n",
              "    <tr>\n",
              "      <th class=\"blank level0\" >&nbsp;</th>\n",
              "      <th class=\"col_heading level0 col0\" >0</th>\n",
              "      <th class=\"col_heading level0 col1\" >1</th>\n",
              "      <th class=\"col_heading level0 col2\" >2</th>\n",
              "      <th class=\"col_heading level0 col3\" >3</th>\n",
              "      <th class=\"col_heading level0 col4\" >4</th>\n",
              "      <th class=\"col_heading level0 col5\" >5</th>\n",
              "      <th class=\"col_heading level0 col6\" >6</th>\n",
              "      <th class=\"col_heading level0 col7\" >7</th>\n",
              "      <th class=\"col_heading level0 col8\" >8</th>\n",
              "      <th class=\"col_heading level0 col9\" >9</th>\n",
              "    </tr>\n",
              "  </thead>\n",
              "  <tbody>\n",
              "    <tr>\n",
              "      <th id=\"T_b2461_level0_row0\" class=\"row_heading level0 row0\" >0</th>\n",
              "      <td id=\"T_b2461_row0_col0\" class=\"data row0 col0\" >0.880262</td>\n",
              "      <td id=\"T_b2461_row0_col1\" class=\"data row0 col1\" >0.796981</td>\n",
              "      <td id=\"T_b2461_row0_col2\" class=\"data row0 col2\" >0.840308</td>\n",
              "      <td id=\"T_b2461_row0_col3\" class=\"data row0 col3\" >0.735882</td>\n",
              "      <td id=\"T_b2461_row0_col4\" class=\"data row0 col4\" >0.808466</td>\n",
              "      <td id=\"T_b2461_row0_col5\" class=\"data row0 col5\" >0.913444</td>\n",
              "      <td id=\"T_b2461_row0_col6\" class=\"data row0 col6\" >0.854323</td>\n",
              "      <td id=\"T_b2461_row0_col7\" class=\"data row0 col7\" >0.861434</td>\n",
              "      <td id=\"T_b2461_row0_col8\" class=\"data row0 col8\" >0.733405</td>\n",
              "      <td id=\"T_b2461_row0_col9\" class=\"data row0 col9\" >0.715258</td>\n",
              "    </tr>\n",
              "  </tbody>\n",
              "</table>\n"
            ]
          },
          "metadata": {}
        },
        {
          "output_type": "stream",
          "name": "stdout",
          "text": [
            "\n"
          ]
        },
        {
          "output_type": "display_data",
          "data": {
            "text/plain": [
              "<pandas.io.formats.style.Styler at 0x7f4bc309e950>"
            ],
            "text/html": [
              "<style type=\"text/css\">\n",
              "</style>\n",
              "<table id=\"T_f0541_\" class=\"dataframe\">\n",
              "  <caption>Per-class recall rates </caption>\n",
              "  <thead>\n",
              "    <tr>\n",
              "      <th class=\"blank level0\" >&nbsp;</th>\n",
              "      <th class=\"col_heading level0 col0\" >0</th>\n",
              "      <th class=\"col_heading level0 col1\" >1</th>\n",
              "      <th class=\"col_heading level0 col2\" >2</th>\n",
              "      <th class=\"col_heading level0 col3\" >3</th>\n",
              "      <th class=\"col_heading level0 col4\" >4</th>\n",
              "      <th class=\"col_heading level0 col5\" >5</th>\n",
              "      <th class=\"col_heading level0 col6\" >6</th>\n",
              "      <th class=\"col_heading level0 col7\" >7</th>\n",
              "      <th class=\"col_heading level0 col8\" >8</th>\n",
              "      <th class=\"col_heading level0 col9\" >9</th>\n",
              "    </tr>\n",
              "  </thead>\n",
              "  <tbody>\n",
              "    <tr>\n",
              "      <th id=\"T_f0541_level0_row0\" class=\"row_heading level0 row0\" >0</th>\n",
              "      <td id=\"T_f0541_row0_col0\" class=\"data row0 col0\" >0.936318</td>\n",
              "      <td id=\"T_f0541_row0_col1\" class=\"data row0 col1\" >0.945389</td>\n",
              "      <td id=\"T_f0541_row0_col2\" class=\"data row0 col2\" >0.797283</td>\n",
              "      <td id=\"T_f0541_row0_col3\" class=\"data row0 col3\" >0.823129</td>\n",
              "      <td id=\"T_f0541_row0_col4\" class=\"data row0 col4\" >0.769386</td>\n",
              "      <td id=\"T_f0541_row0_col5\" class=\"data row0 col5\" >0.549889</td>\n",
              "      <td id=\"T_f0541_row0_col6\" class=\"data row0 col6\" >0.890304</td>\n",
              "      <td id=\"T_f0541_row0_col7\" class=\"data row0 col7\" >0.866472</td>\n",
              "      <td id=\"T_f0541_row0_col8\" class=\"data row0 col8\" >0.719538</td>\n",
              "      <td id=\"T_f0541_row0_col9\" class=\"data row0 col9\" >0.737475</td>\n",
              "    </tr>\n",
              "  </tbody>\n",
              "</table>\n"
            ]
          },
          "metadata": {}
        }
      ]
    },
    {
      "cell_type": "code",
      "source": [
        "loaded_model = tf.keras.models.load_model(model_name)\n",
        "predictions_one_hot = loaded_model.predict([x_test_normalized])\n",
        "\n",
        "# Let's extract predictions with highest probabilites and detect what digits have been actually recognized.\n",
        "predictions = np.argmax(predictions_one_hot, axis=1)\n",
        "pd.DataFrame(predictions)\n",
        "cm, FNN_Accuracy, FNN_recall, FNN_precision = func_confusion_matrix(fY_test, predictions)\n",
        "\n",
        "f, ax = plt.subplots(figsize=(9, 7))\n",
        "sn.heatmap(\n",
        "    cm,\n",
        "    linecolor='Black',\n",
        "    cmap='Blues',\n",
        "    annot=True,\n",
        "    linewidths=.5,\n",
        "    fmt=\"d\",\n",
        "    square=True,\n",
        "    ax=ax\n",
        ")\n",
        "plt.title('Confusion Matrix for FNN', size=20)\n",
        "plt.xlabel('Predicted Labels', size=14)\n",
        "plt.ylabel('Actual Labels', size=14)\n",
        "plt.show()\n",
        "print(f\"Here is the accuracy for FNN model: {FNN_Accuracy}\")\n",
        "print(\"The recall and precision rates will be printed in their own pandas DF\")\n",
        "print()\n",
        "\n",
        "\n",
        "with pd.option_context('display.float_format', '{:,.3f}'.format):\n",
        "    display(pd.DataFrame(FNN_precision).T.style.set_caption(\"Per-class precision for FNN\"))\n",
        "    print()\n",
        "    display(pd.DataFrame(FNN_recall).T.style.set_caption(\"Per-class recall rates \"))\n",
        "\n",
        "\n",
        "\n"
      ],
      "metadata": {
        "colab": {
          "base_uri": "https://localhost:8080/",
          "height": 753
        },
        "id": "8NjNFVNn7CHz",
        "outputId": "be6af1df-a15c-43d3-b53b-38c4a80de888"
      },
      "execution_count": null,
      "outputs": [
        {
          "output_type": "stream",
          "name": "stderr",
          "text": [
            "/usr/local/lib/python3.7/dist-packages/ipykernel_launcher.py:43: DeprecationWarning: `np.int` is a deprecated alias for the builtin `int`. To silence this warning, use `int` by itself. Doing this will not modify any behavior and is safe. When replacing `np.int`, you may wish to use e.g. `np.int64` or `np.int32` to specify the precision. If you wish to review your current use, check the release note link for additional information.\n",
            "Deprecated in NumPy 1.20; for more details and guidance: https://numpy.org/devdocs/release/1.20.0-notes.html#deprecations\n"
          ]
        },
        {
          "output_type": "display_data",
          "data": {
            "text/plain": [
              "<Figure size 648x504 with 2 Axes>"
            ],
            "image/png": "[encoded data removed]"
          },
          "metadata": {
            "needs_background": "light"
          }
        },
        {
          "output_type": "stream",
          "name": "stdout",
          "text": [
            "Here is the accuracy for FNN model: 0.9644\n",
            "The recall and precision rates will be printed in their own pandas DF\n",
            "\n"
          ]
        },
        {
          "output_type": "display_data",
          "data": {
            "text/plain": [
              "<pandas.io.formats.style.Styler at 0x7f4bc36e2e50>"
            ],
            "text/html": [
              "<style type=\"text/css\">\n",
              "</style>\n",
              "<table id=\"T_2a12f_\" class=\"dataframe\">\n",
              "  <caption>Per-class precision for FNN</caption>\n",
              "  <thead>\n",
              "    <tr>\n",
              "      <th class=\"blank level0\" >&nbsp;</th>\n",
              "      <th class=\"col_heading level0 col0\" >0</th>\n",
              "      <th class=\"col_heading level0 col1\" >1</th>\n",
              "      <th class=\"col_heading level0 col2\" >2</th>\n",
              "      <th class=\"col_heading level0 col3\" >3</th>\n",
              "      <th class=\"col_heading level0 col4\" >4</th>\n",
              "      <th class=\"col_heading level0 col5\" >5</th>\n",
              "      <th class=\"col_heading level0 col6\" >6</th>\n",
              "      <th class=\"col_heading level0 col7\" >7</th>\n",
              "      <th class=\"col_heading level0 col8\" >8</th>\n",
              "      <th class=\"col_heading level0 col9\" >9</th>\n",
              "    </tr>\n",
              "  </thead>\n",
              "  <tbody>\n",
              "    <tr>\n",
              "      <th id=\"T_2a12f_level0_row0\" class=\"row_heading level0 row0\" >0</th>\n",
              "      <td id=\"T_2a12f_row0_col0\" class=\"data row0 col0\" >0.981946</td>\n",
              "      <td id=\"T_2a12f_row0_col1\" class=\"data row0 col1\" >0.988330</td>\n",
              "      <td id=\"T_2a12f_row0_col2\" class=\"data row0 col2\" >0.963636</td>\n",
              "      <td id=\"T_2a12f_row0_col3\" class=\"data row0 col3\" >0.970674</td>\n",
              "      <td id=\"T_2a12f_row0_col4\" class=\"data row0 col4\" >0.941571</td>\n",
              "      <td id=\"T_2a12f_row0_col5\" class=\"data row0 col5\" >0.967008</td>\n",
              "      <td id=\"T_2a12f_row0_col6\" class=\"data row0 col6\" >0.973373</td>\n",
              "      <td id=\"T_2a12f_row0_col7\" class=\"data row0 col7\" >0.975309</td>\n",
              "      <td id=\"T_2a12f_row0_col8\" class=\"data row0 col8\" >0.948773</td>\n",
              "      <td id=\"T_2a12f_row0_col9\" class=\"data row0 col9\" >0.932039</td>\n",
              "    </tr>\n",
              "  </tbody>\n",
              "</table>\n"
            ]
          },
          "metadata": {}
        },
        {
          "output_type": "stream",
          "name": "stdout",
          "text": [
            "\n"
          ]
        },
        {
          "output_type": "display_data",
          "data": {
            "text/plain": [
              "<pandas.io.formats.style.Styler at 0x7f4bc30d3610>"
            ],
            "text/html": [
              "<style type=\"text/css\">\n",
              "</style>\n",
              "<table id=\"T_587ab_\" class=\"dataframe\">\n",
              "  <caption>Per-class recall rates </caption>\n",
              "  <thead>\n",
              "    <tr>\n",
              "      <th class=\"blank level0\" >&nbsp;</th>\n",
              "      <th class=\"col_heading level0 col0\" >0</th>\n",
              "      <th class=\"col_heading level0 col1\" >1</th>\n",
              "      <th class=\"col_heading level0 col2\" >2</th>\n",
              "      <th class=\"col_heading level0 col3\" >3</th>\n",
              "      <th class=\"col_heading level0 col4\" >4</th>\n",
              "      <th class=\"col_heading level0 col5\" >5</th>\n",
              "      <th class=\"col_heading level0 col6\" >6</th>\n",
              "      <th class=\"col_heading level0 col7\" >7</th>\n",
              "      <th class=\"col_heading level0 col8\" >8</th>\n",
              "      <th class=\"col_heading level0 col9\" >9</th>\n",
              "    </tr>\n",
              "  </thead>\n",
              "  <tbody>\n",
              "    <tr>\n",
              "      <th id=\"T_587ab_level0_row0\" class=\"row_heading level0 row0\" >0</th>\n",
              "      <td id=\"T_587ab_row0_col0\" class=\"data row0 col0\" >0.982932</td>\n",
              "      <td id=\"T_587ab_row0_col1\" class=\"data row0 col1\" >0.983914</td>\n",
              "      <td id=\"T_587ab_row0_col2\" class=\"data row0 col2\" >0.964611</td>\n",
              "      <td id=\"T_587ab_row0_col3\" class=\"data row0 col3\" >0.930647</td>\n",
              "      <td id=\"T_587ab_row0_col4\" class=\"data row0 col4\" >0.985958</td>\n",
              "      <td id=\"T_587ab_row0_col5\" class=\"data row0 col5\" >0.945495</td>\n",
              "      <td id=\"T_587ab_row0_col6\" class=\"data row0 col6\" >0.984048</td>\n",
              "      <td id=\"T_587ab_row0_col7\" class=\"data row0 col7\" >0.955645</td>\n",
              "      <td id=\"T_587ab_row0_col8\" class=\"data row0 col8\" >0.938754</td>\n",
              "      <td id=\"T_587ab_row0_col9\" class=\"data row0 col9\" >0.968718</td>\n",
              "    </tr>\n",
              "  </tbody>\n",
              "</table>\n"
            ]
          },
          "metadata": {}
        }
      ]
    },
    {
      "cell_type": "markdown",
      "source": [
        "## Now that all of the training and testing is done...\n",
        "## Which model has better accuracy?"
      ],
      "metadata": {
        "id": "lxS-ijrK8tuP"
      }
    },
    {
      "cell_type": "code",
      "source": [
        "if CNN_Accuracy > FNN_Accuracy:\n",
        "  bestModel = model_name1\n",
        "else:\n",
        "  bestModel = model_name\n",
        "\n",
        "print(f\"The winner is {bestModel}\")"
      ],
      "metadata": {
        "colab": {
          "base_uri": "https://localhost:8080/"
        },
        "id": "JAAVgWa88rpH",
        "outputId": "3a5b5e51-8b96-445f-e3f8-0b9884702579"
      },
      "execution_count": null,
      "outputs": [
        {
          "output_type": "stream",
          "name": "stdout",
          "text": [
            "The winner is digits_recognition_mlpFNN.h5\n"
          ]
        }
      ]
    },
    {
      "cell_type": "markdown",
      "source": [
        "## Now to Use the better model for validation on the last 10,000 samples"
      ],
      "metadata": {
        "id": "SxFqyLbQKDez"
      }
    },
    {
      "cell_type": "code",
      "source": [
        "\n",
        "# best model is always going the be the model with better accuracy\n",
        "loaded_model = tf.keras.models.load_model(bestModel)\n",
        "predictions_one_hot = loaded_model.predict([x_test])\n",
        "\n",
        "# Let's extract predictions with highest probabilites and detect what digits have been actually recognized.\n",
        "predictions = np.argmax(predictions_one_hot, axis=1)\n",
        "pd.DataFrame(predictions)\n",
        "\n",
        "cm, FNN_Accuracy, FNN_recall, FNN_precision = func_confusion_matrix(y_test, predictions)\n",
        "# confusion matix again\n",
        "f, ax = plt.subplots(figsize=(9, 7))\n",
        "sn.heatmap(\n",
        "    cm,\n",
        "    linecolor='Black',\n",
        "    cmap='Blues',\n",
        "    annot=True,\n",
        "    linewidths=.5,\n",
        "    fmt=\"d\",\n",
        "    square=True,\n",
        "    ax=ax\n",
        ")\n",
        "plt.title('Confusion Matrix for FNN', size=20)\n",
        "plt.xlabel('Predicted Labels', size=14)\n",
        "plt.ylabel('Actual Labels', size=14)\n",
        "plt.show()\n",
        "\n",
        "print(f\"Here is the accuracy for FNN model: {FNN_Accuracy}\")\n",
        "print(\"The recall and precision rates will be printed in their own pandas DF\")\n",
        "print()\n",
        "\n",
        "\n",
        "with pd.option_context('display.float_format', '{:,.3f}'.format):\n",
        "    display(pd.DataFrame(FNN_precision).T.style.set_caption(\"Per-class precision for FNN\"))\n",
        "    print()\n",
        "    display(pd.DataFrame(FNN_recall).T.style.set_caption(\"Per-class recall rates \"))\n",
        "\n",
        "\n",
        "\n",
        "\n",
        "# here the list is going to be index values of incorrectly predicted samples\n",
        "# to display\n",
        "numbers_to_display = []\n",
        "\n",
        "plt.figure(figsize=(10, 10))\n",
        "\n",
        "for i, prediction in enumerate(predictions):\n",
        "    if prediction != fY_test[i]:\n",
        "        numbers_to_display.append(i)\n",
        "    if len(numbers_to_display) >9:\n",
        "      break\n",
        "\n",
        "# this loop only runs to collect the first 10 incorrect samples \n",
        "num_cells = math.ceil(math.sqrt(len(numbers_to_display)))\n",
        "\n",
        "\n",
        "for i, plot_index in enumerate(numbers_to_display):    \n",
        "    predicted_label = predictions[plot_index]\n",
        "    plt.xticks([])\n",
        "    plt.yticks([])\n",
        "    plt.grid(False)\n",
        "    color_map = 'Greens' if predicted_label == fY_test[plot_index] else 'Reds'\n",
        "    plt.subplot(num_cells, num_cells, plot_index + 1)\n",
        "    plt.imshow(x_test_normalized[plot_index], cmap=color_map)\n",
        "    plt.xlabel(predicted_label)\n",
        "\n",
        "\n",
        "plt.show()"
      ],
      "metadata": {
        "colab": {
          "base_uri": "https://localhost:8080/",
          "height": 1000
        },
        "id": "k2k-QnRn3wXc",
        "outputId": "8c8c8b99-6d45-45ed-c7e5-dfcb65b936fc"
      },
      "execution_count": null,
      "outputs": [
        {
          "output_type": "stream",
          "name": "stderr",
          "text": [
            "/usr/local/lib/python3.7/dist-packages/ipykernel_launcher.py:43: DeprecationWarning: `np.int` is a deprecated alias for the builtin `int`. To silence this warning, use `int` by itself. Doing this will not modify any behavior and is safe. When replacing `np.int`, you may wish to use e.g. `np.int64` or `np.int32` to specify the precision. If you wish to review your current use, check the release note link for additional information.\n",
            "Deprecated in NumPy 1.20; for more details and guidance: https://numpy.org/devdocs/release/1.20.0-notes.html#deprecations\n"
          ]
        },
        {
          "output_type": "display_data",
          "data": {
            "text/plain": [
              "<Figure size 648x504 with 2 Axes>"
            ],
            "image/png": "[encoded data removed]"
          },
          "metadata": {
            "needs_background": "light"
          }
        },
        {
          "output_type": "stream",
          "name": "stdout",
          "text": [
            "Here is the accuracy for FNN model: 0.9537\n",
            "The recall and precision rates will be printed in their own pandas DF\n",
            "\n"
          ]
        },
        {
          "output_type": "display_data",
          "data": {
            "text/plain": [
              "<pandas.io.formats.style.Styler at 0x7f4bc13b55d0>"
            ],
            "text/html": [
              "<style type=\"text/css\">\n",
              "</style>\n",
              "<table id=\"T_cad6a_\" class=\"dataframe\">\n",
              "  <caption>Per-class precision for FNN</caption>\n",
              "  <thead>\n",
              "    <tr>\n",
              "      <th class=\"blank level0\" >&nbsp;</th>\n",
              "      <th class=\"col_heading level0 col0\" >0</th>\n",
              "      <th class=\"col_heading level0 col1\" >1</th>\n",
              "      <th class=\"col_heading level0 col2\" >2</th>\n",
              "      <th class=\"col_heading level0 col3\" >3</th>\n",
              "      <th class=\"col_heading level0 col4\" >4</th>\n",
              "      <th class=\"col_heading level0 col5\" >5</th>\n",
              "      <th class=\"col_heading level0 col6\" >6</th>\n",
              "      <th class=\"col_heading level0 col7\" >7</th>\n",
              "      <th class=\"col_heading level0 col8\" >8</th>\n",
              "      <th class=\"col_heading level0 col9\" >9</th>\n",
              "    </tr>\n",
              "  </thead>\n",
              "  <tbody>\n",
              "    <tr>\n",
              "      <th id=\"T_cad6a_level0_row0\" class=\"row_heading level0 row0\" >0</th>\n",
              "      <td id=\"T_cad6a_row0_col0\" class=\"data row0 col0\" >0.937440</td>\n",
              "      <td id=\"T_cad6a_row0_col1\" class=\"data row0 col1\" >0.971576</td>\n",
              "      <td id=\"T_cad6a_row0_col2\" class=\"data row0 col2\" >0.974684</td>\n",
              "      <td id=\"T_cad6a_row0_col3\" class=\"data row0 col3\" >0.926415</td>\n",
              "      <td id=\"T_cad6a_row0_col4\" class=\"data row0 col4\" >0.950348</td>\n",
              "      <td id=\"T_cad6a_row0_col5\" class=\"data row0 col5\" >0.949367</td>\n",
              "      <td id=\"T_cad6a_row0_col6\" class=\"data row0 col6\" >0.961498</td>\n",
              "      <td id=\"T_cad6a_row0_col7\" class=\"data row0 col7\" >0.952290</td>\n",
              "      <td id=\"T_cad6a_row0_col8\" class=\"data row0 col8\" >0.988848</td>\n",
              "      <td id=\"T_cad6a_row0_col9\" class=\"data row0 col9\" >0.930460</td>\n",
              "    </tr>\n",
              "  </tbody>\n",
              "</table>\n"
            ]
          },
          "metadata": {}
        },
        {
          "output_type": "stream",
          "name": "stdout",
          "text": [
            "\n"
          ]
        },
        {
          "output_type": "display_data",
          "data": {
            "text/plain": [
              "<pandas.io.formats.style.Styler at 0x7f4bc07f61d0>"
            ],
            "text/html": [
              "<style type=\"text/css\">\n",
              "</style>\n",
              "<table id=\"T_92e81_\" class=\"dataframe\">\n",
              "  <caption>Per-class recall rates </caption>\n",
              "  <thead>\n",
              "    <tr>\n",
              "      <th class=\"blank level0\" >&nbsp;</th>\n",
              "      <th class=\"col_heading level0 col0\" >0</th>\n",
              "      <th class=\"col_heading level0 col1\" >1</th>\n",
              "      <th class=\"col_heading level0 col2\" >2</th>\n",
              "      <th class=\"col_heading level0 col3\" >3</th>\n",
              "      <th class=\"col_heading level0 col4\" >4</th>\n",
              "      <th class=\"col_heading level0 col5\" >5</th>\n",
              "      <th class=\"col_heading level0 col6\" >6</th>\n",
              "      <th class=\"col_heading level0 col7\" >7</th>\n",
              "      <th class=\"col_heading level0 col8\" >8</th>\n",
              "      <th class=\"col_heading level0 col9\" >9</th>\n",
              "    </tr>\n",
              "  </thead>\n",
              "  <tbody>\n",
              "    <tr>\n",
              "      <th id=\"T_92e81_level0_row0\" class=\"row_heading level0 row0\" >0</th>\n",
              "      <td id=\"T_92e81_row0_col0\" class=\"data row0 col0\" >0.993878</td>\n",
              "      <td id=\"T_92e81_row0_col1\" class=\"data row0 col1\" >0.993833</td>\n",
              "      <td id=\"T_92e81_row0_col2\" class=\"data row0 col2\" >0.969961</td>\n",
              "      <td id=\"T_92e81_row0_col3\" class=\"data row0 col3\" >0.972277</td>\n",
              "      <td id=\"T_92e81_row0_col4\" class=\"data row0 col4\" >0.974542</td>\n",
              "      <td id=\"T_92e81_row0_col5\" class=\"data row0 col5\" >0.924888</td>\n",
              "      <td id=\"T_92e81_row0_col6\" class=\"data row0 col6\" >0.964509</td>\n",
              "      <td id=\"T_92e81_row0_col7\" class=\"data row0 col7\" >0.970817</td>\n",
              "      <td id=\"T_92e81_row0_col8\" class=\"data row0 col8\" >0.819302</td>\n",
              "      <td id=\"T_92e81_row0_col9\" class=\"data row0 col9\" >0.941526</td>\n",
              "    </tr>\n",
              "  </tbody>\n",
              "</table>\n"
            ]
          },
          "metadata": {}
        },
        {
          "output_type": "display_data",
          "data": {
            "text/plain": [
              "<Figure size 720x720 with 10 Axes>"
            ],
            "image/png": "[encoded data removed]"
          },
          "metadata": {
            "needs_background": "light"
          }
        }
      ]
    },
    {
      "cell_type": "code",
      "source": [
        ""
      ],
      "metadata": {
        "id": "97HutzH7AbTw"
      },
      "execution_count": null,
      "outputs": []
    }
  ]
}